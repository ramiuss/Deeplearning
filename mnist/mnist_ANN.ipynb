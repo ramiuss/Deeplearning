{
 "cells": [
  {
   "cell_type": "code",
   "execution_count": 17,
   "metadata": {},
   "outputs": [],
   "source": [
    "import numpy as np\n",
    "import tensorflow as tf\n",
    "import tensorflow_datasets as tfds"
   ]
  },
  {
   "cell_type": "code",
   "execution_count": 18,
   "metadata": {},
   "outputs": [
    {
     "name": "stdout",
     "output_type": "stream",
     "text": [
      "['abstract_reasoning', 'accentdb', 'aeslc', 'aflw2k3d', 'ag_news_subset', 'ai2_arc', 'ai2_arc_with_ir', 'amazon_us_reviews', 'anli', 'answer_equivalence', 'arc', 'asqa', 'asset', 'assin2', 'asu_table_top_converted_externally_to_rlds', 'austin_buds_dataset_converted_externally_to_rlds', 'austin_sailor_dataset_converted_externally_to_rlds', 'austin_sirius_dataset_converted_externally_to_rlds', 'bair_robot_pushing_small', 'bc_z', 'bccd', 'beans', 'bee_dataset', 'beir', 'berkeley_autolab_ur5', 'berkeley_cable_routing', 'berkeley_fanuc_manipulation', 'berkeley_gnm_cory_hall', 'berkeley_gnm_recon', 'berkeley_gnm_sac_son', 'berkeley_mvp_converted_externally_to_rlds', 'berkeley_rpt_converted_externally_to_rlds', 'big_patent', 'bigearthnet', 'billsum', 'binarized_mnist', 'binary_alpha_digits', 'ble_wind_field', 'blimp', 'booksum', 'bool_q', 'bot_adversarial_dialogue', 'bridge', 'bucc', 'c4', 'c4_wsrs', 'caltech101', 'caltech_birds2010', 'caltech_birds2011', 'cardiotox', 'cars196', 'cassava', 'cats_vs_dogs', 'celeb_a', 'celeb_a_hq', 'cfq', 'cherry_blossoms', 'chexpert', 'cifar10', 'cifar100', 'cifar100_n', 'cifar10_1', 'cifar10_corrupted', 'cifar10_h', 'cifar10_n', 'citrus_leaves', 'cityscapes', 'civil_comments', 'clevr', 'clic', 'clinc_oos', 'cmaterdb', 'cmu_franka_exploration_dataset_converted_externally_to_rlds', 'cmu_play_fusion', 'cmu_stretch', 'cnn_dailymail', 'coco', 'coco_captions', 'coil100', 'colorectal_histology', 'colorectal_histology_large', 'columbia_cairlab_pusht_real', 'common_voice', 'conll2002', 'conll2003', 'controlled_noisy_web_labels', 'coqa', 'corr2cause', 'cos_e', 'cosmos_qa', 'covid19', 'covid19sum', 'crema_d', 'criteo', 'cs_restaurants', 'curated_breast_imaging_ddsm', 'cycle_gan', 'd4rl_adroit_door', 'd4rl_adroit_hammer', 'd4rl_adroit_pen', 'd4rl_adroit_relocate', 'd4rl_antmaze', 'd4rl_mujoco_ant', 'd4rl_mujoco_halfcheetah', 'd4rl_mujoco_hopper', 'd4rl_mujoco_walker2d', 'dart', 'databricks_dolly', 'davis', 'deep1b', 'deep_weeds', 'definite_pronoun_resolution', 'dementiabank', 'diabetic_retinopathy_detection', 'diamonds', 'div2k', 'dlr_edan_shared_control_converted_externally_to_rlds', 'dlr_sara_grid_clamp_converted_externally_to_rlds', 'dlr_sara_pour_converted_externally_to_rlds', 'dmlab', 'doc_nli', 'dolphin_number_word', 'domainnet', 'downsampled_imagenet', 'drop', 'dsprites', 'dtd', 'duke_ultrasound', 'e2e_cleaned', 'efron_morris75', 'emnist', 'eraser_multi_rc', 'esnli', 'eth_agent_affordances', 'eurosat', 'fashion_mnist', 'flic', 'flores', 'food101', 'forest_fires', 'fractal20220817_data', 'fuss', 'gap', 'geirhos_conflict_stimuli', 'gem', 'genomics_ood', 'german_credit_numeric', 'gigaword', 'glove100_angular', 'glue', 'goemotions', 'gov_report', 'gpt3', 'gref', 'groove', 'grounded_scan', 'gsm8k', 'gtzan', 'gtzan_music_speech', 'hellaswag', 'higgs', 'hillstrom', 'horses_or_humans', 'howell', 'i_naturalist2017', 'i_naturalist2018', 'i_naturalist2021', 'iamlab_cmu_pickup_insert_converted_externally_to_rlds', 'imagenet2012', 'imagenet2012_corrupted', 'imagenet2012_fewshot', 'imagenet2012_multilabel', 'imagenet2012_real', 'imagenet2012_subset', 'imagenet_a', 'imagenet_lt', 'imagenet_pi', 'imagenet_r', 'imagenet_resized', 'imagenet_sketch', 'imagenet_v2', 'imagenette', 'imagewang', 'imdb_reviews', 'imperialcollege_sawyer_wrist_cam', 'irc_disentanglement', 'iris', 'istella', 'jaco_play', 'kaist_nonprehensile_converted_externally_to_rlds', 'kddcup99', 'kitti', 'kmnist', 'kuka', 'laion400m', 'lambada', 'lfw', 'librispeech', 'librispeech_lm', 'libritts', 'ljspeech', 'lm1b', 'locomotion', 'lost_and_found', 'lsun', 'lvis', 'malaria', 'maniskill_dataset_converted_externally_to_rlds', 'math_dataset', 'math_qa', 'mctaco', 'media_sum', 'mlqa', 'mnist', 'mnist_corrupted', 'movie_lens', 'movie_rationales', 'movielens', 'moving_mnist', 'mrqa', 'mslr_web', 'mt_opt', 'mtnt', 'multi_news', 'multi_nli', 'multi_nli_mismatch', 'natural_instructions', 'natural_questions', 'natural_questions_open', 'newsroom', 'nsynth', 'nyu_depth_v2', 'nyu_door_opening_surprising_effectiveness', 'nyu_franka_play_dataset_converted_externally_to_rlds', 'nyu_rot_dataset_converted_externally_to_rlds', 'ogbg_molpcba', 'omniglot', 'open_images_challenge2019_detection', 'open_images_v4', 'openbookqa', 'opinion_abstracts', 'opinosis', 'opus', 'oxford_flowers102', 'oxford_iiit_pet', 'para_crawl', 'pass', 'patch_camelyon', 'paws_wiki', 'paws_x_wiki', 'penguins', 'pet_finder', 'pg19', 'piqa', 'places365_small', 'placesfull', 'plant_leaves', 'plant_village', 'plantae_k', 'protein_net', 'q_re_cc', 'qa4mre', 'qasc', 'quac', 'quality', 'quickdraw_bitmap', 'race', 'radon', 'real_toxicity_prompts', 'reddit', 'reddit_disentanglement', 'reddit_tifu', 'ref_coco', 'resisc45', 'rlu_atari', 'rlu_atari_checkpoints', 'rlu_atari_checkpoints_ordered', 'rlu_control_suite', 'rlu_dmlab_explore_object_rewards_few', 'rlu_dmlab_explore_object_rewards_many', 'rlu_dmlab_rooms_select_nonmatching_object', 'rlu_dmlab_rooms_watermaze', 'rlu_dmlab_seekavoid_arena01', 'rlu_locomotion', 'rlu_rwrl', 'robomimic_mg', 'robomimic_mh', 'robomimic_ph', 'robonet', 'robosuite_panda_pick_place_can', 'roboturk', 'rock_paper_scissors', 'rock_you', 's3o4d', 'salient_span_wikipedia', 'samsum', 'savee', 'scan', 'scene_parse150', 'schema_guided_dialogue', 'sci_tail', 'scicite', 'scientific_papers', 'scrolls', 'segment_anything', 'sentiment140', 'shapes3d', 'sift1m', 'simpte', 'siscore', 'smallnorb', 'smartwatch_gestures', 'snli', 'so2sat', 'speech_commands', 'spoken_digit', 'squad', 'squad_question_generation', 'stanford_dogs', 'stanford_hydra_dataset_converted_externally_to_rlds', 'stanford_kuka_multimodal_dataset_converted_externally_to_rlds', 'stanford_mask_vit_converted_externally_to_rlds', 'stanford_online_products', 'stanford_robocook_converted_externally_to_rlds', 'star_cfq', 'starcraft_video', 'stl10', 'story_cloze', 'summscreen', 'sun397', 'super_glue', 'svhn_cropped', 'symmetric_solids', 'taco_play', 'tao', 'tatoeba', 'ted_hrlr_translate', 'ted_multi_translate', 'tedlium', 'tf_flowers', 'the300w_lp', 'tiny_shakespeare', 'titanic', 'tokyo_u_lsmo_converted_externally_to_rlds', 'toto', 'trec', 'trivia_qa', 'tydi_qa', 'uc_merced', 'ucf101', 'ucsd_kitchen_dataset_converted_externally_to_rlds', 'ucsd_pick_and_place_dataset_converted_externally_to_rlds', 'uiuc_d3field', 'unified_qa', 'universal_dependencies', 'unnatural_instructions', 'usc_cloth_sim_converted_externally_to_rlds', 'user_libri_audio', 'user_libri_text', 'utaustin_mutex', 'utokyo_pr2_opening_fridge_converted_externally_to_rlds', 'utokyo_pr2_tabletop_manipulation_converted_externally_to_rlds', 'utokyo_saytap_converted_externally_to_rlds', 'utokyo_xarm_bimanual_converted_externally_to_rlds', 'utokyo_xarm_pick_and_place_converted_externally_to_rlds', 'vctk', 'viola', 'visual_domain_decathlon', 'voc', 'voxceleb', 'voxforge', 'waymo_open_dataset', 'web_graph', 'web_nlg', 'web_questions', 'webvid', 'wider_face', 'wiki40b', 'wiki_auto', 'wiki_bio', 'wiki_dialog', 'wiki_table_questions', 'wiki_table_text', 'wikiann', 'wikihow', 'wikipedia', 'wikipedia_toxicity_subtypes', 'wine_quality', 'winogrande', 'wit', 'wit_kaggle', 'wmt13_translate', 'wmt14_translate', 'wmt15_translate', 'wmt16_translate', 'wmt17_translate', 'wmt18_translate', 'wmt19_translate', 'wmt_t2t_translate', 'wmt_translate', 'wordnet', 'wsc273', 'xnli', 'xquad', 'xsum', 'xtreme_pawsx', 'xtreme_pos', 'xtreme_s', 'xtreme_xnli', 'yahoo_ltrc', 'yelp_polarity_reviews', 'yes_no', 'youtube_vis']\n"
     ]
    }
   ],
   "source": [
    "print(tfds.list_builders())"
   ]
  },
  {
   "cell_type": "code",
   "execution_count": 19,
   "metadata": {},
   "outputs": [
    {
     "name": "stdout",
     "output_type": "stream",
     "text": [
      "tfds.core.DatasetInfo(\n",
      "    name='mnist',\n",
      "    full_name='mnist/3.0.1',\n",
      "    description=\"\"\"\n",
      "    The MNIST database of handwritten digits.\n",
      "    \"\"\",\n",
      "    homepage='http://yann.lecun.com/exdb/mnist/',\n",
      "    data_dir='C:\\\\Users\\\\euiso\\\\tensorflow_datasets\\\\mnist\\\\3.0.1',\n",
      "    file_format=tfrecord,\n",
      "    download_size=11.06 MiB,\n",
      "    dataset_size=21.00 MiB,\n",
      "    features=FeaturesDict({\n",
      "        'image': Image(shape=(28, 28, 1), dtype=uint8),\n",
      "        'label': ClassLabel(shape=(), dtype=int64, num_classes=10),\n",
      "    }),\n",
      "    supervised_keys=('image', 'label'),\n",
      "    disable_shuffling=False,\n",
      "    splits={\n",
      "        'test': <SplitInfo num_examples=10000, num_shards=1>,\n",
      "        'train': <SplitInfo num_examples=60000, num_shards=1>,\n",
      "    },\n",
      "    citation=\"\"\"@article{lecun2010mnist,\n",
      "      title={MNIST handwritten digit database},\n",
      "      author={LeCun, Yann and Cortes, Corinna and Burges, CJ},\n",
      "      journal={ATT Labs [Online]. Available: http://yann.lecun.com/exdb/mnist},\n",
      "      volume={2},\n",
      "      year={2010}\n",
      "    }\"\"\",\n",
      ")\n"
     ]
    }
   ],
   "source": [
    "data, info = tfds.load('mnist',  with_info=True)\n",
    "print(info)"
   ]
  },
  {
   "cell_type": "code",
   "execution_count": 20,
   "metadata": {},
   "outputs": [
    {
     "data": {
      "text/plain": [
       "dict_keys(['train', 'test'])"
      ]
     },
     "execution_count": 20,
     "metadata": {},
     "output_type": "execute_result"
    }
   ],
   "source": [
    "data.keys()"
   ]
  },
  {
   "cell_type": "code",
   "execution_count": 26,
   "metadata": {},
   "outputs": [
    {
     "name": "stdout",
     "output_type": "stream",
     "text": [
      "60000\n",
      "(60000, 28, 28, 1) (60000,)\n",
      "(60000, 28, 28, 1) <class 'tensorflow.python.framework.ops.EagerTensor'> (60000,) <class 'tensorflow.python.framework.ops.EagerTensor'>\n"
     ]
    }
   ],
   "source": [
    "train = data['train']\n",
    "print(len(train))\n",
    "\n",
    "train = train.map(lambda x : (x['image'], x['label']))\n",
    "train = train.shuffle(12000).batch(60000)\n",
    "batch = next(iter(train))\n",
    "print(batch[0].shape, batch[1].shape)\n",
    "\n",
    "train_images, train_labels = batch \n",
    "print(train_images.shape, type(train_images), train_labels.shape, type(train_labels))"
   ]
  },
  {
   "cell_type": "code",
   "execution_count": 27,
   "metadata": {},
   "outputs": [
    {
     "name": "stdout",
     "output_type": "stream",
     "text": [
      "10000\n",
      "(10000, 28, 28, 1) (10000,)\n",
      "(10000, 28, 28, 1) <class 'tensorflow.python.framework.ops.EagerTensor'> (10000,) <class 'tensorflow.python.framework.ops.EagerTensor'>\n"
     ]
    }
   ],
   "source": [
    "test = data['test']\n",
    "print(len(test))\n",
    "\n",
    "test = test.map(lambda x : (x['image'], x['label']))\n",
    "test = test.shuffle(2000).batch(10000)\n",
    "batch = next(iter(test))\n",
    "print(batch[0].shape, batch[1].shape)\n",
    "\n",
    "test_images, test_labels = batch\n",
    "print(test_images.shape, type(test_images), test_labels.shape, type(test_labels))"
   ]
  },
  {
   "cell_type": "code",
   "execution_count": 29,
   "metadata": {},
   "outputs": [
    {
     "data": {
      "image/png": "[encoded data removed]",
      "text/plain": [
       "<Figure size 600x600 with 9 Axes>"
      ]
     },
     "metadata": {},
     "output_type": "display_data"
    }
   ],
   "source": [
    "import matplotlib.pyplot as plt\n",
    "import random\n",
    "\n",
    "plt.figure(figsize=(6, 6))\n",
    "\n",
    "random_idx = np.random.randint(0, len(train_images), size=16)\n",
    "\n",
    "for i, idx in enumerate(random_idx) :\n",
    "\n",
    "    img = train_images[idx]\n",
    "    label = train_labels[idx]\n",
    "\n",
    "    plt.subplot(3, 3, i+1)\n",
    "    plt.imshow(img, cmap='gray')\n",
    "    plt.title(tr)\n",
    "    plt.axis('off')\n",
    "\n",
    "plt.show()"
   ]
  },
  {
   "cell_type": "code",
   "execution_count": 25,
   "metadata": {},
   "outputs": [
    {
     "ename": "TypeError",
     "evalue": "`x` and `y` must have the same dtype, got tf.uint8 != tf.float32.",
     "output_type": "error",
     "traceback": [
      "\u001b[1;31m---------------------------------------------------------------------------\u001b[0m",
      "\u001b[1;31mTypeError\u001b[0m                                 Traceback (most recent call last)",
      "Cell \u001b[1;32mIn[25], line 3\u001b[0m\n\u001b[0;32m      1\u001b[0m \u001b[38;5;28;01mfrom\u001b[39;00m \u001b[38;5;21;01mtensorflow\u001b[39;00m\u001b[38;5;21;01m.\u001b[39;00m\u001b[38;5;21;01mkeras\u001b[39;00m\u001b[38;5;21;01m.\u001b[39;00m\u001b[38;5;21;01mutils\u001b[39;00m \u001b[38;5;28;01mimport\u001b[39;00m to_categorical\n\u001b[1;32m----> 3\u001b[0m train_images \u001b[38;5;241m=\u001b[39m \u001b[43mtrain_images\u001b[49m\u001b[43m \u001b[49m\u001b[38;5;241;43m/\u001b[39;49m\u001b[43m \u001b[49m\u001b[38;5;241;43m255.0\u001b[39;49m\n\u001b[0;32m      4\u001b[0m test_images \u001b[38;5;241m=\u001b[39m test_images \u001b[38;5;241m/\u001b[39m \u001b[38;5;241m255.0\u001b[39m\n\u001b[0;32m      6\u001b[0m train_labels \u001b[38;5;241m=\u001b[39m to_categorical(train_labels)\n",
      "File \u001b[1;32mc:\\Users\\euiso\\AppData\\Local\\Programs\\Python\\Python310\\lib\\site-packages\\tensorflow\\python\\util\\traceback_utils.py:153\u001b[0m, in \u001b[0;36mfilter_traceback.<locals>.error_handler\u001b[1;34m(*args, **kwargs)\u001b[0m\n\u001b[0;32m    151\u001b[0m \u001b[38;5;28;01mexcept\u001b[39;00m \u001b[38;5;167;01mException\u001b[39;00m \u001b[38;5;28;01mas\u001b[39;00m e:\n\u001b[0;32m    152\u001b[0m   filtered_tb \u001b[38;5;241m=\u001b[39m _process_traceback_frames(e\u001b[38;5;241m.\u001b[39m__traceback__)\n\u001b[1;32m--> 153\u001b[0m   \u001b[38;5;28;01mraise\u001b[39;00m e\u001b[38;5;241m.\u001b[39mwith_traceback(filtered_tb) \u001b[38;5;28;01mfrom\u001b[39;00m \u001b[38;5;28;01mNone\u001b[39;00m\n\u001b[0;32m    154\u001b[0m \u001b[38;5;28;01mfinally\u001b[39;00m:\n\u001b[0;32m    155\u001b[0m   \u001b[38;5;28;01mdel\u001b[39;00m filtered_tb\n",
      "File \u001b[1;32mc:\\Users\\euiso\\AppData\\Local\\Programs\\Python\\Python310\\lib\\site-packages\\tensorflow\\python\\ops\\math_ops.py:1412\u001b[0m, in \u001b[0;36m_truediv_python3\u001b[1;34m(x, y, name)\u001b[0m\n\u001b[0;32m   1410\u001b[0m y_dtype \u001b[38;5;241m=\u001b[39m y\u001b[38;5;241m.\u001b[39mdtype\u001b[38;5;241m.\u001b[39mbase_dtype\n\u001b[0;32m   1411\u001b[0m \u001b[38;5;28;01mif\u001b[39;00m x_dtype \u001b[38;5;241m!=\u001b[39m y_dtype:\n\u001b[1;32m-> 1412\u001b[0m   \u001b[38;5;28;01mraise\u001b[39;00m \u001b[38;5;167;01mTypeError\u001b[39;00m(\u001b[38;5;124mf\u001b[39m\u001b[38;5;124m\"\u001b[39m\u001b[38;5;124m`x` and `y` must have the same dtype, \u001b[39m\u001b[38;5;124m\"\u001b[39m\n\u001b[0;32m   1413\u001b[0m                   \u001b[38;5;124mf\u001b[39m\u001b[38;5;124m\"\u001b[39m\u001b[38;5;124mgot \u001b[39m\u001b[38;5;132;01m{\u001b[39;00mx_dtype\u001b[38;5;132;01m!r}\u001b[39;00m\u001b[38;5;124m != \u001b[39m\u001b[38;5;132;01m{\u001b[39;00my_dtype\u001b[38;5;132;01m!r}\u001b[39;00m\u001b[38;5;124m.\u001b[39m\u001b[38;5;124m\"\u001b[39m)\n\u001b[0;32m   1414\u001b[0m \u001b[38;5;28;01mtry\u001b[39;00m:\n\u001b[0;32m   1415\u001b[0m   dtype \u001b[38;5;241m=\u001b[39m _TRUEDIV_TABLE[x_dtype]\n",
      "\u001b[1;31mTypeError\u001b[0m: `x` and `y` must have the same dtype, got tf.uint8 != tf.float32."
     ]
    }
   ],
   "source": [
    "from tensorflow.keras.utils import to_categorical\n",
    "\n",
    "train_images = train_images / 255.0\n",
    "test_images = test_images / 255.0\n",
    "\n",
    "train_labels = to_categorical(train_labels)\n",
    "test_labels = to_categorical(test_labels)"
   ]
  },
  {
   "cell_type": "code",
   "execution_count": null,
   "metadata": {},
   "outputs": [
    {
     "name": "stdout",
     "output_type": "stream",
     "text": [
      "Model: \"sequential_1\"\n",
      "_________________________________________________________________\n",
      " Layer (type)                Output Shape              Param #   \n",
      "=================================================================\n",
      " flatten_1 (Flatten)         (None, 784)               0         \n",
      "                                                                 \n",
      " dense_4 (Dense)             (None, 128)               100480    \n",
      "                                                                 \n",
      " dropout_3 (Dropout)         (None, 128)               0         \n",
      "                                                                 \n",
      " dense_5 (Dense)             (None, 64)                8256      \n",
      "                                                                 \n",
      " dropout_4 (Dropout)         (None, 64)                0         \n",
      "                                                                 \n",
      " dense_6 (Dense)             (None, 32)                2080      \n",
      "                                                                 \n",
      " dropout_5 (Dropout)         (None, 32)                0         \n",
      "                                                                 \n",
      " dense_7 (Dense)             (None, 10)                330       \n",
      "                                                                 \n",
      "=================================================================\n",
      "Total params: 111146 (434.16 KB)\n",
      "Trainable params: 111146 (434.16 KB)\n",
      "Non-trainable params: 0 (0.00 Byte)\n",
      "_________________________________________________________________\n"
     ]
    }
   ],
   "source": [
    "from tensorflow.keras.models import Sequential\n",
    "from tensorflow.keras.layers import Input, Dense, Dropout, Flatten, Conv2D, MaxPooling2D\n",
    "\n",
    "model = Sequential()\n",
    "model.add(Input(shape=(28, 28, 1)))\n",
    "model.add(Flatten(input_shape=[28, 28, 1]))\n",
    "model.add(Dense(128, activation='relu'))\n",
    "model.add(Dropout(0.2))\n",
    "model.add(Dense(64, activation='relu'))\n",
    "model.add(Dropout(0.2))\n",
    "model.add(Dense(32, activation='relu'))\n",
    "model.add(Dropout(0.2))\n",
    "model.add(Dense(10, activation='softmax'))\n",
    "\n",
    "model.summary()"
   ]
  },
  {
   "cell_type": "code",
   "execution_count": null,
   "metadata": {},
   "outputs": [],
   "source": [
    "from tensorflow.keras.callbacks import ModelCheckpoint, EarlyStopping, TensorBoard, ReduceLROnPlateau\n",
    "\n",
    "checkpoint = ModelCheckpoint(\"model.h5\", monitor=\"val_loss\", mode=\"min\", save_best_only=True, verbose=1)\n",
    "earlystopping = EarlyStopping(monitor=\"val_loss\", patience=5, verbose=1, mode='min')\n",
    "tensorboard = TensorBoard(log_dir='./logs', histogram_freq=1, embeddings_freq=1, write_graph=True, write_images=True)\n",
    "reduce_lr = ReduceLROnPlateau(monitor=\"val_loss\", factor=0.2, patience=3, verbose=1, min_lr=0.00001)"
   ]
  },
  {
   "cell_type": "code",
   "execution_count": null,
   "metadata": {},
   "outputs": [
    {
     "name": "stdout",
     "output_type": "stream",
     "text": [
      "Epoch 1/30\n",
      "1491/1500 [============================>.] - ETA: 0s - loss: 0.4583 - acc: 0.8624\n",
      "Epoch 1: val_loss improved from inf to 0.17363, saving model to model.h5\n",
      "1500/1500 [==============================] - 3s 2ms/step - loss: 0.4571 - acc: 0.8629 - val_loss: 0.1736 - val_acc: 0.9508 - lr: 0.0010\n",
      "Epoch 2/30\n",
      "  36/1500 [..............................] - ETA: 2s - loss: 0.2118 - acc: 0.9366"
     ]
    },
    {
     "name": "stderr",
     "output_type": "stream",
     "text": [
      "c:\\Users\\euiso\\AppData\\Local\\Programs\\Python\\Python310\\lib\\site-packages\\keras\\src\\engine\\training.py:3079: UserWarning: You are saving your model as an HDF5 file via `model.save()`. This file format is considered legacy. We recommend using instead the native Keras format, e.g. `model.save('my_model.keras')`.\n",
      "  saving_api.save_model(\n"
     ]
    },
    {
     "name": "stdout",
     "output_type": "stream",
     "text": [
      "1486/1500 [============================>.] - ETA: 0s - loss: 0.2147 - acc: 0.9385\n",
      "Epoch 2: val_loss improved from 0.17363 to 0.13036, saving model to model.h5\n",
      "1500/1500 [==============================] - 3s 2ms/step - loss: 0.2154 - acc: 0.9385 - val_loss: 0.1304 - val_acc: 0.9627 - lr: 0.0010\n",
      "Epoch 3/30\n",
      "1467/1500 [============================>.] - ETA: 0s - loss: 0.1664 - acc: 0.9533\n",
      "Epoch 3: val_loss improved from 0.13036 to 0.11783, saving model to model.h5\n",
      "1500/1500 [==============================] - 3s 2ms/step - loss: 0.1671 - acc: 0.9531 - val_loss: 0.1178 - val_acc: 0.9666 - lr: 0.0010\n",
      "Epoch 4/30\n",
      "1469/1500 [============================>.] - ETA: 0s - loss: 0.1409 - acc: 0.9609\n",
      "Epoch 4: val_loss improved from 0.11783 to 0.10733, saving model to model.h5\n",
      "1500/1500 [==============================] - 3s 2ms/step - loss: 0.1407 - acc: 0.9610 - val_loss: 0.1073 - val_acc: 0.9703 - lr: 0.0010\n",
      "Epoch 5/30\n",
      "1473/1500 [============================>.] - ETA: 0s - loss: 0.1232 - acc: 0.9648\n",
      "Epoch 5: val_loss did not improve from 0.10733\n",
      "1500/1500 [==============================] - 3s 2ms/step - loss: 0.1232 - acc: 0.9647 - val_loss: 0.1104 - val_acc: 0.9705 - lr: 0.0010\n",
      "Epoch 6/30\n",
      "1495/1500 [============================>.] - ETA: 0s - loss: 0.1121 - acc: 0.9691\n",
      "Epoch 6: val_loss improved from 0.10733 to 0.09975, saving model to model.h5\n",
      "1500/1500 [==============================] - 3s 2ms/step - loss: 0.1119 - acc: 0.9692 - val_loss: 0.0998 - val_acc: 0.9723 - lr: 0.0010\n",
      "Epoch 7/30\n",
      "1481/1500 [============================>.] - ETA: 0s - loss: 0.1012 - acc: 0.9704\n",
      "Epoch 7: val_loss did not improve from 0.09975\n",
      "1500/1500 [==============================] - 3s 2ms/step - loss: 0.1014 - acc: 0.9703 - val_loss: 0.1033 - val_acc: 0.9707 - lr: 0.0010\n",
      "Epoch 8/30\n",
      "1469/1500 [============================>.] - ETA: 0s - loss: 0.0908 - acc: 0.9735\n",
      "Epoch 8: val_loss improved from 0.09975 to 0.09922, saving model to model.h5\n",
      "1500/1500 [==============================] - 3s 2ms/step - loss: 0.0913 - acc: 0.9735 - val_loss: 0.0992 - val_acc: 0.9738 - lr: 0.0010\n",
      "Epoch 9/30\n",
      "1483/1500 [============================>.] - ETA: 0s - loss: 0.0871 - acc: 0.9746\n",
      "Epoch 9: val_loss improved from 0.09922 to 0.09582, saving model to model.h5\n",
      "1500/1500 [==============================] - 3s 2ms/step - loss: 0.0873 - acc: 0.9746 - val_loss: 0.0958 - val_acc: 0.9751 - lr: 0.0010\n",
      "Epoch 10/30\n",
      "1480/1500 [============================>.] - ETA: 0s - loss: 0.0839 - acc: 0.9756\n",
      "Epoch 10: val_loss improved from 0.09582 to 0.09533, saving model to model.h5\n",
      "1500/1500 [==============================] - 3s 2ms/step - loss: 0.0845 - acc: 0.9755 - val_loss: 0.0953 - val_acc: 0.9747 - lr: 0.0010\n",
      "Epoch 11/30\n",
      "1474/1500 [============================>.] - ETA: 0s - loss: 0.0790 - acc: 0.9768\n",
      "Epoch 11: val_loss did not improve from 0.09533\n",
      "1500/1500 [==============================] - 3s 2ms/step - loss: 0.0789 - acc: 0.9768 - val_loss: 0.1147 - val_acc: 0.9713 - lr: 0.0010\n",
      "Epoch 12/30\n",
      "1484/1500 [============================>.] - ETA: 0s - loss: 0.0746 - acc: 0.9779\n",
      "Epoch 12: val_loss improved from 0.09533 to 0.09530, saving model to model.h5\n",
      "1500/1500 [==============================] - 3s 2ms/step - loss: 0.0746 - acc: 0.9779 - val_loss: 0.0953 - val_acc: 0.9756 - lr: 0.0010\n",
      "Epoch 13/30\n",
      "1478/1500 [============================>.] - ETA: 0s - loss: 0.0698 - acc: 0.9795\n",
      "Epoch 13: val_loss did not improve from 0.09530\n",
      "\n",
      "Epoch 13: ReduceLROnPlateau reducing learning rate to 0.00020000000949949026.\n",
      "1500/1500 [==============================] - 3s 2ms/step - loss: 0.0695 - acc: 0.9796 - val_loss: 0.0986 - val_acc: 0.9732 - lr: 0.0010\n",
      "Epoch 14/30\n",
      "1498/1500 [============================>.] - ETA: 0s - loss: 0.0523 - acc: 0.9851\n",
      "Epoch 14: val_loss improved from 0.09530 to 0.08958, saving model to model.h5\n",
      "1500/1500 [==============================] - 3s 2ms/step - loss: 0.0524 - acc: 0.9851 - val_loss: 0.0896 - val_acc: 0.9791 - lr: 2.0000e-04\n",
      "Epoch 15/30\n",
      "1482/1500 [============================>.] - ETA: 0s - loss: 0.0431 - acc: 0.9872\n",
      "Epoch 15: val_loss did not improve from 0.08958\n",
      "1500/1500 [==============================] - 3s 2ms/step - loss: 0.0429 - acc: 0.9872 - val_loss: 0.0934 - val_acc: 0.9784 - lr: 2.0000e-04\n",
      "Epoch 16/30\n",
      "1486/1500 [============================>.] - ETA: 0s - loss: 0.0403 - acc: 0.9877\n",
      "Epoch 16: val_loss did not improve from 0.08958\n",
      "1500/1500 [==============================] - 3s 2ms/step - loss: 0.0401 - acc: 0.9878 - val_loss: 0.0933 - val_acc: 0.9783 - lr: 2.0000e-04\n",
      "Epoch 17/30\n",
      "1500/1500 [==============================] - ETA: 0s - loss: 0.0406 - acc: 0.9883\n",
      "Epoch 17: val_loss did not improve from 0.08958\n",
      "\n",
      "Epoch 17: ReduceLROnPlateau reducing learning rate to 4.0000001899898055e-05.\n",
      "1500/1500 [==============================] - 3s 2ms/step - loss: 0.0406 - acc: 0.9883 - val_loss: 0.0965 - val_acc: 0.9783 - lr: 2.0000e-04\n",
      "Epoch 18/30\n",
      "1485/1500 [============================>.] - ETA: 0s - loss: 0.0349 - acc: 0.9897\n",
      "Epoch 18: val_loss did not improve from 0.08958\n",
      "1500/1500 [==============================] - 3s 2ms/step - loss: 0.0348 - acc: 0.9898 - val_loss: 0.0943 - val_acc: 0.9788 - lr: 4.0000e-05\n",
      "Epoch 19/30\n",
      "1471/1500 [============================>.] - ETA: 0s - loss: 0.0324 - acc: 0.9902\n",
      "Epoch 19: val_loss did not improve from 0.08958\n",
      "1500/1500 [==============================] - 3s 2ms/step - loss: 0.0328 - acc: 0.9902 - val_loss: 0.0949 - val_acc: 0.9790 - lr: 4.0000e-05\n",
      "Epoch 19: early stopping\n"
     ]
    }
   ],
   "source": [
    "model.compile(optimizer='adam', loss='categorical_crossentropy', metrics=['acc'])\n",
    "history = model.fit(train_images, train_labels, epochs=30, batch_size=32, validation_split=0.2, callbacks=[checkpoint, earlystopping, tensorboard, reduce_lr])"
   ]
  },
  {
   "cell_type": "code",
   "execution_count": null,
   "metadata": {},
   "outputs": [
    {
     "name": "stdout",
     "output_type": "stream",
     "text": [
      "313/313 - 0s - loss: 0.0846 - acc: 0.9811 - 319ms/epoch - 1ms/step\n"
     ]
    },
    {
     "data": {
      "text/plain": [
       "[0.08462392538785934, 0.9811000227928162]"
      ]
     },
     "execution_count": 28,
     "metadata": {},
     "output_type": "execute_result"
    }
   ],
   "source": [
    "model.evaluate(test_images, test_labels, verbose=2)"
   ]
  },
  {
   "cell_type": "code",
   "execution_count": null,
   "metadata": {},
   "outputs": [
    {
     "name": "stdout",
     "output_type": "stream",
     "text": [
      "313/313 [==============================] - 0s 723us/step\n",
      "[1.0000000e+00 1.2681488e-19 7.1084333e-13 1.0097287e-15 1.5902388e-19\n",
      " 7.6103349e-14 1.3892971e-12 6.8672162e-13 7.0969814e-18 2.0696022e-14]\n",
      "0\n"
     ]
    }
   ],
   "source": [
    "pred_ys = model.predict(test_images)\n",
    "print(pred_ys[0])\n",
    "print(np.argmax(pred_ys[0]))"
   ]
  },
  {
   "cell_type": "code",
   "execution_count": null,
   "metadata": {},
   "outputs": [
    {
     "data": {
      "image/png": "[encoded data removed]",
      "text/plain": [
       "<Figure size 800x800 with 2 Axes>"
      ]
     },
     "metadata": {},
     "output_type": "display_data"
    }
   ],
   "source": [
    "import matplotlib.pyplot as plt\n",
    "import seaborn as sns\n",
    "from sklearn.metrics import confusion_matrix\n",
    "\n",
    "plt.figure(figsize=(8,8))\n",
    "\n",
    "sns.set_style(\"whitegrid\")\n",
    "cm = confusion_matrix(np.argmax(test_labels, axis = -1), np.argmax(pred_ys, axis= -1))\n",
    "sns.heatmap(cm, annot=True, fmt=\"d\")\n",
    "plt.ylabel('True')\n",
    "plt.xlabel(\"Predicted\")\n",
    "plt.title(\"Confusion Matrix\")\n",
    "\n",
    "plt.show()"
   ]
  }
 ],
 "metadata": {
  "kernelspec": {
   "display_name": "Python 3",
   "language": "python",
   "name": "python3"
  },
  "language_info": {
   "codemirror_mode": {
    "name": "ipython",
    "version": 3
   },
   "file_extension": ".py",
   "mimetype": "text/x-python",
   "name": "python",
   "nbconvert_exporter": "python",
   "pygments_lexer": "ipython3",
   "version": "3.10.6"
  }
 },
 "nbformat": 4,
 "nbformat_minor": 2
}
